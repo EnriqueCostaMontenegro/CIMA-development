{
 "cells": [
  {
   "cell_type": "code",
   "execution_count": 4,
   "id": "2e6f0f2b-88fd-43fb-b89c-b093b9745dba",
   "metadata": {},
   "outputs": [],
   "source": [
    "import pandas as pd\n",
    "import json\n",
    "\n",
    "\n",
    "new_dictionary = pd.read_csv(\"dictionary_CIMA.csv\")"
   ]
  },
  {
   "cell_type": "code",
   "execution_count": 5,
   "id": "c6cfa96d-4891-4937-bc4b-530531adaed8",
   "metadata": {},
   "outputs": [],
   "source": [
    "with open(\"current_dictionary.json\") as json_file:\n",
    "    data_current = json.load(json_file)"
   ]
  },
  {
   "cell_type": "code",
   "execution_count": 7,
   "id": "210e8cf8-8728-4a12-aab2-024b9005ebd5",
   "metadata": {},
   "outputs": [],
   "source": [
    "for index, row in new_dictionary.iterrows():\n",
    "    data_current[row['ID']]['en']= row['en']\n",
    "    data_current[row['ID']]['es']= row['es']\n",
    "    data_current[row['ID']]['gl']= row['gl']\n",
    "    data_current[row['ID']]['is']= row['is']\n",
    "    data_current[row['ID']]['pl']= row['pl']\n",
    "    data_current[row['ID']]['pt']= row['pt']"
   ]
  },
  {
   "cell_type": "code",
   "execution_count": 9,
   "id": "47111458-d575-4efe-a703-33c79c401394",
   "metadata": {},
   "outputs": [
    {
     "data": {
      "text/plain": [
       "{'en': 'Toilets for disabled',\n",
       " 'es': 'Baños para personas discapacitadas',\n",
       " 'gl': 'Baños para persoas discapacitadas',\n",
       " 'is': 'Salerni fyrir fatlað fólk',\n",
       " 'pl': 'Toalety dla osób z niepełnosprawnościami',\n",
       " 'pt': 'Sanitários para deficientes'}"
      ]
     },
     "execution_count": 9,
     "metadata": {},
     "output_type": "execute_result"
    }
   ],
   "source": [
    "data_current['disabled_toilets']"
   ]
  },
  {
   "cell_type": "code",
   "execution_count": 18,
   "id": "a469afe0-c542-43d6-ba46-8226533b792d",
   "metadata": {},
   "outputs": [],
   "source": [
    "with open('updated_dictionary.json', 'w') as outfile:\n",
    "    json.dump(data, outfile)"
   ]
  },
  {
   "cell_type": "code",
   "execution_count": null,
   "id": "6561987b-ed52-4b22-a14a-2a7466225352",
   "metadata": {},
   "outputs": [],
   "source": []
  }
 ],
 "metadata": {
  "kernelspec": {
   "display_name": "Python 3 (ipykernel)",
   "language": "python",
   "name": "python3"
  },
  "language_info": {
   "codemirror_mode": {
    "name": "ipython",
    "version": 3
   },
   "file_extension": ".py",
   "mimetype": "text/x-python",
   "name": "python",
   "nbconvert_exporter": "python",
   "pygments_lexer": "ipython3",
   "version": "3.9.13"
  }
 },
 "nbformat": 4,
 "nbformat_minor": 5
}
